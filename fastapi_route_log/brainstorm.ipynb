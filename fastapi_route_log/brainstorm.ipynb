{
 "metadata": {
  "language_info": {
   "codemirror_mode": {
    "name": "ipython",
    "version": 3
   },
   "file_extension": ".py",
   "mimetype": "text/x-python",
   "name": "python",
   "nbconvert_exporter": "python",
   "pygments_lexer": "ipython3",
   "version": "3.8.5"
  },
  "orig_nbformat": 2,
  "kernelspec": {
   "name": "python385jvsc74a57bd0f50e695f4d0270aed422929f0a7b11c259b557767c275f157b1511638cb18738",
   "display_name": "Python 3.8.5 64-bit ('albert': conda)"
  }
 },
 "nbformat": 4,
 "nbformat_minor": 2,
 "cells": [
  {
   "cell_type": "code",
   "execution_count": 1,
   "metadata": {},
   "outputs": [
    {
     "output_type": "execute_result",
     "data": {
      "text/plain": [
       "<pandas.io.formats.style.Styler at 0x7f0e976063a0>"
      ],
      "text/html": "<style  type=\"text/css\" >\n#T_de108_row0_col0{\n            background-color:  #481a6c;\n            color:  #f1f1f1;\n            font-size:  20px;\n        }#T_de108_row0_col1{\n            background-color:  #2c728e;\n            color:  #f1f1f1;\n            font-size:  20px;\n        }#T_de108_row0_col2{\n            background-color:  #35b779;\n            color:  #000000;\n            font-size:  20px;\n        }#T_de108_row0_col3,#T_de108_row1_col0,#T_de108_row1_col1,#T_de108_row2_col2{\n            background-color:  #fde725;\n            color:  #000000;\n            font-size:  20px;\n        }#T_de108_row1_col2,#T_de108_row2_col1,#T_de108_row2_col3,#T_de108_row3_col0,#T_de108_row3_col1{\n            background-color:  #440154;\n            color:  #f1f1f1;\n            font-size:  20px;\n        }#T_de108_row1_col3{\n            background-color:  #3e4989;\n            color:  #f1f1f1;\n            font-size:  20px;\n        }#T_de108_row2_col0{\n            background-color:  #287d8e;\n            color:  #000000;\n            font-size:  20px;\n        }#T_de108_row3_col2{\n            background-color:  #2a768e;\n            color:  #f1f1f1;\n            font-size:  20px;\n        }#T_de108_row3_col3{\n            background-color:  #28ae80;\n            color:  #000000;\n            font-size:  20px;\n        }</style><table id=\"T_de108_\" ><thead>    <tr>        <th class=\"blank level0\" ></th>        <th class=\"col_heading level0 col0\" >A</th>        <th class=\"col_heading level0 col1\" >B</th>        <th class=\"col_heading level0 col2\" >C</th>        <th class=\"col_heading level0 col3\" >D</th>    </tr></thead><tbody>\n                <tr>\n                        <th id=\"T_de108_level0_row0\" class=\"row_heading level0 row0\" >1</th>\n                        <td id=\"T_de108_row0_col0\" class=\"data row0 col0\" >10</td>\n                        <td id=\"T_de108_row0_col1\" class=\"data row0 col1\" >20</td>\n                        <td id=\"T_de108_row0_col2\" class=\"data row0 col2\" >30</td>\n                        <td id=\"T_de108_row0_col3\" class=\"data row0 col3\" >40</td>\n            </tr>\n            <tr>\n                        <th id=\"T_de108_level0_row1\" class=\"row_heading level0 row1\" >2</th>\n                        <td id=\"T_de108_row1_col0\" class=\"data row1 col0\" >50</td>\n                        <td id=\"T_de108_row1_col1\" class=\"data row1 col1\" >30</td>\n                        <td id=\"T_de108_row1_col2\" class=\"data row1 col2\" >8</td>\n                        <td id=\"T_de108_row1_col3\" class=\"data row1 col3\" >15</td>\n            </tr>\n            <tr>\n                        <th id=\"T_de108_level0_row2\" class=\"row_heading level0 row2\" >3</th>\n                        <td id=\"T_de108_row2_col0\" class=\"data row2 col0\" >25</td>\n                        <td id=\"T_de108_row2_col1\" class=\"data row2 col1\" >14</td>\n                        <td id=\"T_de108_row2_col2\" class=\"data row2 col2\" >41</td>\n                        <td id=\"T_de108_row2_col3\" class=\"data row2 col3\" >8</td>\n            </tr>\n            <tr>\n                        <th id=\"T_de108_level0_row3\" class=\"row_heading level0 row3\" >4</th>\n                        <td id=\"T_de108_row3_col0\" class=\"data row3 col0\" >7</td>\n                        <td id=\"T_de108_row3_col1\" class=\"data row3 col1\" >14</td>\n                        <td id=\"T_de108_row3_col2\" class=\"data row3 col2\" >21</td>\n                        <td id=\"T_de108_row3_col3\" class=\"data row3 col3\" >28</td>\n            </tr>\n    </tbody></table>"
     },
     "metadata": {},
     "execution_count": 1
    }
   ],
   "source": [
    "import pandas as pd\n",
    "  \n",
    "# defining index for the dataframe\n",
    "idx = ['1', '2', '3', '4']\n",
    "  \n",
    "# defining columns for the dataframe\n",
    "cols = list('ABCD')\n",
    "  \n",
    "# entering values in the index and columns  \n",
    "# and converting them into a panda dataframe\n",
    "df = pd.DataFrame([[10, 20, 30, 40], [50, 30, 8, 15],\n",
    "                   [25, 14, 41, 8], [7, 14, 21, 28]],\n",
    "                   columns = cols, index = idx)\n",
    "  \n",
    "# displaying dataframe as an heatmap \n",
    "# with diverging colourmap as virdis\n",
    "df.style.background_gradient(cmap ='viridis')\\\n",
    "        .set_properties(**{'font-size': '20px'})"
   ]
  },
  {
   "cell_type": "code",
   "execution_count": 2,
   "metadata": {},
   "outputs": [
    {
     "output_type": "execute_result",
     "data": {
      "text/plain": [
       "<pandas.io.formats.style.Styler at 0x7f0eb48e40a0>"
      ],
      "text/html": "<style  type=\"text/css\" >\n#T_3bf32_row0_col0{\n            background-color:  #481a6c;\n            color:  #f1f1f1;\n            font-size:  20px;\n        }#T_3bf32_row1_col0{\n            background-color:  #fde725;\n            color:  #000000;\n            font-size:  20px;\n        }#T_3bf32_row2_col0{\n            background-color:  #287d8e;\n            color:  #000000;\n            font-size:  20px;\n        }#T_3bf32_row3_col0{\n            background-color:  #440154;\n            color:  #f1f1f1;\n            font-size:  20px;\n        }</style><table id=\"T_3bf32_\" ><thead>    <tr>        <th class=\"blank level0\" ></th>        <th class=\"col_heading level0 col0\" >A</th>    </tr></thead><tbody>\n                <tr>\n                        <th id=\"T_3bf32_level0_row0\" class=\"row_heading level0 row0\" >10:12:2020</th>\n                        <td id=\"T_3bf32_row0_col0\" class=\"data row0 col0\" >10</td>\n            </tr>\n            <tr>\n                        <th id=\"T_3bf32_level0_row1\" class=\"row_heading level0 row1\" >11:12:2020</th>\n                        <td id=\"T_3bf32_row1_col0\" class=\"data row1 col0\" >50</td>\n            </tr>\n            <tr>\n                        <th id=\"T_3bf32_level0_row2\" class=\"row_heading level0 row2\" >12:12:2020</th>\n                        <td id=\"T_3bf32_row2_col0\" class=\"data row2 col0\" >25</td>\n            </tr>\n            <tr>\n                        <th id=\"T_3bf32_level0_row3\" class=\"row_heading level0 row3\" >13:12:2020</th>\n                        <td id=\"T_3bf32_row3_col0\" class=\"data row3 col0\" >7</td>\n            </tr>\n    </tbody></table>"
     },
     "metadata": {},
     "execution_count": 2
    }
   ],
   "source": [
    "import pandas as pd\n",
    "  \n",
    "# defining index for the dataframe\n",
    "idx = ['10:12:2020', '11:12:2020', '12:12:2020', '13:12:2020']\n",
    "  \n",
    "# defining columns for the dataframe\n",
    "cols = list('A','B')\n",
    "  \n",
    "# entering values in the index and columns  \n",
    "# and converting them into a panda dataframe\n",
    "df = pd.DataFrame([[10], [50],\n",
    "                   [25], [7]],\n",
    "                   columns = cols, index = idx)\n",
    "  \n",
    "# displaying dataframe as an heatmap \n",
    "# with diverging colourmap as virdis\n",
    "df.style.background_gradient(cmap ='viridis')\\\n",
    "        .set_properties(**{'font-size': '20px'})"
   ]
  }
 ]
}